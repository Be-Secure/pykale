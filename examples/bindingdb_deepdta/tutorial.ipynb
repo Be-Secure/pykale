{
 "cells": [
  {
   "cell_type": "markdown",
   "id": "7dda9ef8",
   "metadata": {},
   "source": [
    "# PyKale Tutorial: Drug-Target Interaction: DeepDTA\n",
    "\n",
    "|[Launch Binder](https://mybinder.org/v2/gh/pykale/pykale/HEAD?filepath=examples%2Fbindingdb_deepdta%2Ftutorial.ipynb) | [Open In Colab](https://colab.research.google.com/github/pykale/pykale/blob/main/examples/bindingdb_deepdta/tutorial.ipynb)|\n"
   ]
  },
  {
   "cell_type": "markdown",
   "id": "277595d5",
   "metadata": {},
   "source": [
    "## Setup\n",
    "\n",
    "The first few blocks of code are necessary to set up the notebook execution environment and import the required modules, including PyKale.\n",
    "\n",
    "This checks if the notebook is running on Google Colab and installs required packages."
   ]
  },
  {
   "cell_type": "code",
   "execution_count": null,
   "id": "aa5d00e1",
   "metadata": {},
   "outputs": [],
   "source": [
    "if 'google.colab' in str(get_ipython()):\n",
    "    print('Running on CoLab')\n",
    "    !pip install -q condacolab\n",
    "    import condacolab\n",
    "    condacolab.install()    \n",
    "\n",
    "    !git clone -b bindingdb_deepdta_tutorial https://github.com/pykale/pykale.git\n",
    "\n",
    "    !conda env update -n base -f pykale/environment.yml\n",
    "    \n",
    "    %cd  pykale/examples/bindingdb_deepdta\n",
    "else:\n",
    "    print('Not running on CoLab')\n"
   ]
  },
  {
   "cell_type": "code",
   "execution_count": null,
   "id": "8c71b4b3",
   "metadata": {},
   "outputs": [],
   "source": [
    "import pytorch_lightning as pl\n",
    "import torch\n",
    "from config import get_cfg_defaults\n",
    "from model import get_model\n",
    "from pytorch_lightning.callbacks import ModelCheckpoint\n",
    "from pytorch_lightning.loggers import CSVLogger, TensorBoardLogger\n",
    "from torch.utils.data import DataLoader\n",
    "\n",
    "from kale.loaddata.tdc_datasets import BindingDBDataset"
   ]
  },
  {
   "cell_type": "markdown",
   "id": "01dfa7ff",
   "metadata": {},
   "source": [
    "# Set configs"
   ]
  },
  {
   "cell_type": "code",
   "execution_count": null,
   "id": "88cd22b8",
   "metadata": {},
   "outputs": [],
   "source": [
    "cfg_path = \"./configs/tutorial.yaml\"\n",
    "\n",
    "cfg = get_cfg_defaults()\n",
    "cfg.merge_from_file(cfg_path)\n",
    "cfg.freeze()\n",
    "print(cfg)"
   ]
  },
  {
   "cell_type": "markdown",
   "id": "1ed85c92",
   "metadata": {},
   "source": [
    "# Set up logger"
   ]
  },
  {
   "cell_type": "code",
   "execution_count": null,
   "id": "a21fd90a",
   "metadata": {},
   "outputs": [],
   "source": [
    "tb_logger = TensorBoardLogger(\"tb_logs\", name=cfg.DATASET.NAME)"
   ]
  },
  {
   "cell_type": "markdown",
   "id": "c7ffb872",
   "metadata": {},
   "source": [
    "# Check is GPU is available"
   ]
  },
  {
   "cell_type": "code",
   "execution_count": null,
   "id": "75cb2fc0",
   "metadata": {},
   "outputs": [],
   "source": [
    "device = \"cuda\" if torch.cuda.is_available() else \"cpu\"\n",
    "print(\"Using: \" + device)\n",
    "gpus = 1 if device == \"cuda\" else 0"
   ]
  },
  {
   "cell_type": "markdown",
   "id": "12a81b10",
   "metadata": {},
   "source": [
    "# Set dataset"
   ]
  },
  {
   "cell_type": "code",
   "execution_count": null,
   "id": "e5e7f9ad",
   "metadata": {},
   "outputs": [],
   "source": [
    "train_dataset = BindingDBDataset(name=cfg.DATASET.NAME, split=\"train\", path=cfg.DATASET.PATH)\n",
    "val_dataset = BindingDBDataset(name=cfg.DATASET.NAME, split=\"valid\", path=cfg.DATASET.PATH)\n",
    "test_dataset = BindingDBDataset(name=cfg.DATASET.NAME, split=\"test\", path=cfg.DATASET.PATH)\n",
    "train_loader = DataLoader(dataset=train_dataset, shuffle=True, batch_size=cfg.SOLVER.TRAIN_BATCH_SIZE)\n",
    "val_loader = DataLoader(dataset=val_dataset, shuffle=True, batch_size=cfg.SOLVER.TEST_BATCH_SIZE)\n",
    "test_loader = DataLoader(dataset=test_dataset, shuffle=True, batch_size=cfg.SOLVER.TEST_BATCH_SIZE)"
   ]
  },
  {
   "cell_type": "markdown",
   "id": "54f8cf4a",
   "metadata": {},
   "source": [
    "# Set model"
   ]
  },
  {
   "cell_type": "code",
   "execution_count": null,
   "id": "bd74fa5b",
   "metadata": {},
   "outputs": [],
   "source": [
    "model = get_model(cfg)"
   ]
  },
  {
   "cell_type": "markdown",
   "id": "929e4232",
   "metadata": {},
   "source": [
    "# Training and evaluation"
   ]
  },
  {
   "cell_type": "code",
   "execution_count": null,
   "id": "c8d59022",
   "metadata": {},
   "outputs": [],
   "source": [
    "checkpoint_callback = ModelCheckpoint(monitor=\"val_loss\", mode=\"min\")\n",
    "trainer = pl.Trainer(min_epochs=cfg.SOLVER.MIN_EPOCHS, max_epochs=cfg.SOLVER.MAX_EPOCHS, gpus=gpus, logger=tb_logger, callbacks=[checkpoint_callback])\n",
    "trainer.fit(model, train_dataloader=train_loader, val_dataloaders=val_loader)\n",
    "trainer.test(test_dataloaders=test_loader)"
   ]
  }
 ],
 "metadata": {
  "kernelspec": {
   "display_name": "Python 3 (ipykernel)",
   "language": "python",
   "name": "python3"
  },
  "language_info": {
   "codemirror_mode": {
    "name": "ipython",
    "version": 3
   },
   "file_extension": ".py",
   "mimetype": "text/x-python",
   "name": "python",
   "nbconvert_exporter": "python",
   "pygments_lexer": "ipython3",
   "version": "3.7.10"
  }
 },
 "nbformat": 4,
 "nbformat_minor": 5
}
