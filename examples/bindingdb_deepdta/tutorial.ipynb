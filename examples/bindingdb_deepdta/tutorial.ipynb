{
 "cells": [
  {
   "cell_type": "markdown",
   "id": "7dda9ef8",
   "metadata": {},
   "source": [
    "# PyKale Tutorial: Drug-Target Interaction: DeepDTA\n",
    "\n",
    "|[Launch Binder](https://mybinder.org/v2/gh/pykale/pykale/HEAD?filepath=examples%2Fbindingdb_deepdta%2Ftutorial.ipynb) | [Open In Colab](https://colab.research.google.com/github/pykale/pykale/blob/main/examples/bindingdb_deepdta/tutorial.ipynb)|\n"
   ]
  },
  {
   "cell_type": "markdown",
   "id": "277595d5",
   "metadata": {},
   "source": [
    "## Introduction\n",
    "Drug-target interaction is a substantial research area in the field of drug discovery. It refers to predicting the binding\n",
    "affinity between the given chemical compounds and protein targets. In this example we train a standard DeepDTA model as\n",
    "baseline in open BindingDB datasets. BindingDB is a public, web-accessible database of measured binding affinities.\n",
    "\n",
    "### DeepDTA\n",
    "[DeepDTA](https://academic.oup.com/bioinformatics/article/34/17/i821/5093245) is the modeling of protein sequences and compound 1D\n",
    "representations with convolutional neural networks (CNNs). The whole architecture of DeepDTA is shown below.\n",
    "\n",
    "![DeepDTA](figures/deepdta.png)\n",
    "\n",
    "### Datasets\n",
    "We construct **three datasets** from BindingDB distinguished by different affinity measurement metrics\n",
    "(**Kd, IC50 and Ki**). They are acquired from [Therapeutics Data Commons](https://tdcommons.ai/) (TDC), which is a collection of machine learning\n",
    "tasks spread across different domains of therapeutics. The data statistics is shown:\n",
    "\n",
    "|  Metrics   | Drugs | Targets | Pairs |\n",
    "|  :----:  | :----:  |   :----:  | :----:  |\n",
    "| Kd  | 10,655 | 1,413 | 52,284 |\n",
    "| IC50  | 549,205 | 5,078 | 991,486 |\n",
    "| Ki | 174,662 | 3,070 | 375,032 |\n",
    "\n",
    "This figure is the binding affinity distribution for the three datasets respectively, and the metrics values (x-axis) have been transformed into\n",
    "log space.\n",
    "![Binding affinity distribution](figures/bindingdb.jpg)\n",
    "This tutorial uses the **Kd** dataset.\n",
    "\n",
    "## Setup\n",
    "\n",
    "The first few blocks of code are necessary to set up the notebook execution environment and import the required modules, including PyKale.\n",
    "\n",
    "This checks if the notebook is running on Google Colab and installs required packages."
   ]
  },
  {
   "cell_type": "code",
   "execution_count": null,
   "id": "aa5d00e1",
   "metadata": {},
   "outputs": [],
   "source": [
    "if 'google.colab' in str(get_ipython()):\n",
    "    print('Running on CoLab')\n",
    "    !pip install rdkit-pypi torchaudio torch-scatter torch-sparse torch-cluster torch-spline-conv torch-geometric -f https://pytorch-geometric.com/whl/torch-1.9.0+cu111.html \n",
    "    !pip install git+https://github.com/pykale/pykale.git#egg=pykale[extras]  \n",
    "\n",
    "    !git clone https://github.com/pykale/pykale.git\n",
    "    %cd pykale/examples/digits_dann_lightn\n",
    "else:\n",
    "    print('Not running on CoLab')"
   ]
  },
  {
   "cell_type": "markdown",
   "id": "2838665c",
   "metadata": {},
   "source": [
    "This imports required modules."
   ]
  },
  {
   "cell_type": "code",
   "execution_count": null,
   "id": "8c71b4b3",
   "metadata": {},
   "outputs": [],
   "source": [
    "import pytorch_lightning as pl\n",
    "import torch\n",
    "from config import get_cfg_defaults\n",
    "from model import get_model\n",
    "from pytorch_lightning.callbacks import ModelCheckpoint\n",
    "from pytorch_lightning.loggers import CSVLogger, TensorBoardLogger\n",
    "from torch.utils.data import DataLoader\n",
    "\n",
    "from kale.loaddata.tdc_datasets import BindingDBDataset"
   ]
  },
  {
   "cell_type": "markdown",
   "id": "01dfa7ff",
   "metadata": {},
   "source": [
    "## Configuration\n",
    "\n",
    "The configuration used in this tutorial is stored in `./configs/tutorial.yaml`, this file overwrites defaults in `config.py` where a value is specified."
   ]
  },
  {
   "cell_type": "code",
   "execution_count": null,
   "id": "88cd22b8",
   "metadata": {},
   "outputs": [],
   "source": [
    "cfg_path = \"./configs/tutorial.yaml\"\n",
    "\n",
    "cfg = get_cfg_defaults()\n",
    "cfg.merge_from_file(cfg_path)\n",
    "cfg.freeze()\n",
    "print(cfg)"
   ]
  },
  {
   "cell_type": "markdown",
   "id": "c7ffb872",
   "metadata": {},
   "source": [
    "## Check if a GPU is available\n",
    "\n",
    "If a CUDA GPU is available, this should be used to accelerate the training process. The code below checks and reports on this."
   ]
  },
  {
   "cell_type": "code",
   "execution_count": null,
   "id": "75cb2fc0",
   "metadata": {},
   "outputs": [],
   "source": [
    "device = \"cuda\" if torch.cuda.is_available() else \"cpu\"\n",
    "print(\"Using: \" + device)\n",
    "gpus = 1 if device == \"cuda\" else 0"
   ]
  },
  {
   "cell_type": "markdown",
   "id": "12a81b10",
   "metadata": {},
   "source": [
    "## Select Datasets\n",
    "\n",
    "Source and target datasets are specified using the `BindingDBDataset()` function and loaded using the `DataLoader()` function."
   ]
  },
  {
   "cell_type": "code",
   "execution_count": null,
   "id": "e5e7f9ad",
   "metadata": {},
   "outputs": [],
   "source": [
    "train_dataset = BindingDBDataset(name=cfg.DATASET.NAME, split=\"train\", path=cfg.DATASET.PATH)\n",
    "val_dataset = BindingDBDataset(name=cfg.DATASET.NAME, split=\"valid\", path=cfg.DATASET.PATH)\n",
    "test_dataset = BindingDBDataset(name=cfg.DATASET.NAME, split=\"test\", path=cfg.DATASET.PATH)"
   ]
  },
  {
   "cell_type": "code",
   "execution_count": null,
   "id": "18f30819",
   "metadata": {},
   "outputs": [],
   "source": [
    "cfg.DATASET.PATH"
   ]
  },
  {
   "cell_type": "code",
   "execution_count": null,
   "id": "b1d0a9f6",
   "metadata": {},
   "outputs": [],
   "source": [
    "train_loader = DataLoader(dataset=train_dataset, shuffle=True, batch_size=cfg.SOLVER.TRAIN_BATCH_SIZE)\n",
    "val_loader = DataLoader(dataset=val_dataset, shuffle=True, batch_size=cfg.SOLVER.TEST_BATCH_SIZE)\n",
    "test_loader = DataLoader(dataset=test_dataset, shuffle=True, batch_size=cfg.SOLVER.TEST_BATCH_SIZE)"
   ]
  },
  {
   "cell_type": "markdown",
   "id": "54f8cf4a",
   "metadata": {},
   "source": [
    "## Setup model\n",
    "\n",
    "Here, we use the previously defined configuration and dataset to set up the model we will subsequently train."
   ]
  },
  {
   "cell_type": "code",
   "execution_count": null,
   "id": "bd74fa5b",
   "metadata": {},
   "outputs": [],
   "source": [
    "model = get_model(cfg)"
   ]
  },
  {
   "cell_type": "markdown",
   "id": "1ed85c92",
   "metadata": {},
   "source": [
    "## Setup Logger\n",
    "\n",
    "A logger is used to store output generated during and after model training. This information can be used to assess the effectiveness of the training and to identify problems."
   ]
  },
  {
   "cell_type": "code",
   "execution_count": null,
   "id": "a21fd90a",
   "metadata": {},
   "outputs": [],
   "source": [
    "tb_logger = TensorBoardLogger(\"tb_logs\", name=cfg.DATASET.NAME)"
   ]
  },
  {
   "cell_type": "markdown",
   "id": "25867632",
   "metadata": {},
   "source": [
    "## Setup Trainer\n",
    "\n",
    "A trainer object is used to determine and store model parameters. Here, one is configured with information on how a model should be trained, and what hardware will be used."
   ]
  },
  {
   "cell_type": "code",
   "execution_count": null,
   "id": "a146b288",
   "metadata": {},
   "outputs": [],
   "source": [
    "checkpoint_callback = ModelCheckpoint(monitor=\"val_loss\", mode=\"min\")\n",
    "trainer = pl.Trainer(min_epochs=cfg.SOLVER.MIN_EPOCHS, \n",
    "                     max_epochs=cfg.SOLVER.MAX_EPOCHS, \n",
    "                     gpus=gpus, logger=tb_logger, \n",
    "                     callbacks=[checkpoint_callback])"
   ]
  },
  {
   "cell_type": "markdown",
   "id": "929e4232",
   "metadata": {},
   "source": [
    "## Train Model\n",
    "\n",
    "Optimize model parameters using the trainer."
   ]
  },
  {
   "cell_type": "code",
   "execution_count": null,
   "id": "c8d59022",
   "metadata": {},
   "outputs": [],
   "source": [
    "%time trainer.fit(model, train_dataloader=train_loader, val_dataloaders=val_loader)"
   ]
  },
  {
   "cell_type": "markdown",
   "id": "e5b91164",
   "metadata": {},
   "source": [
    "## Test Optimized Model\n",
    "\n",
    "Check performance of model optmized with training data against test data which was not used in training."
   ]
  },
  {
   "cell_type": "code",
   "execution_count": null,
   "id": "b761ead2",
   "metadata": {},
   "outputs": [],
   "source": [
    "trainer.test(test_dataloaders=test_loader)"
   ]
  },
  {
   "cell_type": "markdown",
   "id": "53e1de75",
   "metadata": {},
   "source": [
    "## Architecture\n",
    "Below is the architecture of DeepDTA with default hyperparameters settings.\n",
    "\n",
    "<pre>\n",
    "==========================================================================================\n",
    "Layer (type:depth-idx)                   Output Shape              Param #\n",
    "==========================================================================================\n",
    "├─CNNEncoder: 1-1                        [256, 96]                 --\n",
    "|    └─Embedding: 2-1                    [256, 85, 128]            8,320\n",
    "|    └─Conv1d: 2-2                       [256, 32, 121]            21,792\n",
    "|    └─Conv1d: 2-3                       [256, 64, 114]            16,448\n",
    "|    └─Conv1d: 2-4                       [256, 96, 107]            49,248\n",
    "|    └─AdaptiveMaxPool1d: 2-5            [256, 96, 1]              --\n",
    "├─CNNEncoder: 1-2                        [256, 96]                 --\n",
    "|    └─Embedding: 2-6                    [256, 1200, 128]          3,328\n",
    "|    └─Conv1d: 2-7                       [256, 32, 121]            307,232\n",
    "|    └─Conv1d: 2-8                       [256, 64, 114]            16,448\n",
    "|    └─Conv1d: 2-9                       [256, 96, 107]            49,248\n",
    "|    └─AdaptiveMaxPool1d: 2-10           [256, 96, 1]              --\n",
    "├─MLPDecoder: 1-3                        [256, 1]                  --\n",
    "|    └─Linear: 2-11                      [256, 1024]               197,632\n",
    "|    └─Dropout: 2-12                     [256, 1024]               --\n",
    "|    └─Linear: 2-13                      [256, 1024]               1,049,600\n",
    "|    └─Dropout: 2-14                     [256, 1024]               --\n",
    "|    └─Linear: 2-15                      [256, 512]                524,800\n",
    "|    └─Linear: 2-16                      [256, 1]                  513\n",
    "==========================================================================================\n",
    "Total params: 2,244,609\n",
    "Trainable params: 2,244,609\n",
    "Non-trainable params: 0\n",
    "Total mult-adds (M): 58.08\n",
    "==========================================================================================\n",
    "Input size (MB): 1.32\n",
    "Forward/backward pass size (MB): 429.92\n",
    "Params size (MB): 8.98\n",
    "Estimated Total Size (MB): 440.21"
   ]
  }
 ],
 "metadata": {
  "kernelspec": {
   "display_name": "Python 3 (ipykernel)",
   "language": "python",
   "name": "python3"
  },
  "language_info": {
   "codemirror_mode": {
    "name": "ipython",
    "version": 3
   },
   "file_extension": ".py",
   "mimetype": "text/x-python",
   "name": "python",
   "nbconvert_exporter": "python",
   "pygments_lexer": "ipython3",
   "version": "3.7.10"
  }
 },
 "nbformat": 4,
 "nbformat_minor": 5
}
