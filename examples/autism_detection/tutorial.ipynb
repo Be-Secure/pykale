{
 "cells": [
  {
   "cell_type": "markdown",
   "id": "889f0632",
   "metadata": {},
   "source": [
    "# PyKale Tutorial: Domain Adaptation for Autism Detection with Multi-site Brain Imaging Data\n",
    "| [Open in Colab](https://github.com/sz144/pykale/blob/brain-example/examples/autism_detection/tutorial.ipynb) (click `Runtime` → `Run all (Ctrl+F9)` |  [Launch Binder](https://mybinder.org/v2/gh/pykale/pykale/HEAD?filepath=examples%2Fautism_detection%2Ftutorial.ipynb) (click `Run` → `Run All Cells`) |"
   ]
  },
  {
   "cell_type": "markdown",
   "id": "9a747289",
   "metadata": {},
   "source": [
    "## Overview\n",
    "\n",
    "- Pre-processing:\n",
    "    - Registration\n",
    "    - Masking\n",
    "    - Rescaling\n",
    "    - Normalization\n",
    "- Machine learning pipeline:\n",
    "    - Multilinear principal component analysis\n",
    "    - Discriminative feature selection\n",
    "    - Linear classification model training    \n",
    "\n",
    "[See the full pipeline illustration for more details.](https://oup.silverchair-cdn.com/oup/backfile/Content_public/Journal/ehjcimaging/22/2/10.1093_ehjci_jeaa001/2/m_jeaa001f2.jpeg?Expires=1631272906&Signature=PKl6KLDSoNyiTy~GNtXayJCucGKhweXvGz~svHY~ThjqjbokMVCnyJMMjoGQ4C81HdUcdnJA-rcNaqmDjspUs5eAX7avG~ckkIGXqGbPWrfnaMfwywWG3EXvvH0tw9ZcFeelnWgF4lkT0RFDVgzvzhHBvefNgS0ZGwLqiGJduANJFmWIXvYgNiU6M6kRbdpOJZBltknUO~Jv43-ghqmEX7dTfOKAx6~14quDC5cgzVFfwNFRKSn0P5JZRf~wIhQ6GQ4tprl7eXuzuRHcKnFbM~UkZOtcQvVhJofCCgSDnExyS6bns9Dop39OlfQHUdY4cwn1WaSnMKEqAqQaKZ715w__&Key-Pair-Id=APKAIE5G5CRDK6RD3PGA)\n",
    "\n",
    "**Reference:**\n",
    "\n",
    "Zhou, S., Li, W., Cox, C.R., & Lu, H. (2020). Side Information Dependence as a Regularizer for Analyzing Human Brain Conditions across Cognitive Experiments. *AAAI*. [[Link](https://ojs.aaai.org//index.php/AAAI/article/view/6179)]"
   ]
  },
  {
   "cell_type": "markdown",
   "id": "5ac85247",
   "metadata": {},
   "source": [
    "## Setup"
   ]
  },
  {
   "cell_type": "code",
   "execution_count": null,
   "id": "8e6cc162",
   "metadata": {},
   "outputs": [],
   "source": [
    "if 'google.colab' in str(get_ipython()):\n",
    "    print('Running on CoLab')\n",
    "    !pip install git+https://github.com/sz144/pykale.git@brain-example\n",
    "    !git clone -b brain-example https://github.com/pykale/pykale.git\n",
    "    %cd pykale/examples/autism_detection\n",
    "else:\n",
    "    print('Not running on CoLab')"
   ]
  },
  {
   "cell_type": "markdown",
   "id": "b9d47528",
   "metadata": {},
   "source": [
    "This imports required modules."
   ]
  },
  {
   "cell_type": "code",
   "execution_count": null,
   "id": "9589caed",
   "metadata": {},
   "outputs": [],
   "source": [
    "import os\n",
    "\n",
    "%matplotlib inline\n",
    "import matplotlib.pyplot as plt\n",
    "import numpy as np\n",
    "from nilearn import datasets\n",
    "import pandas as pd\n",
    "from config import get_cfg_defaults\n",
    "\n",
    "from kale.utils.download import download_file_by_url\n",
    "from kale.loaddata.get_dicom import read_dicom_images\n",
    "from kale.interpret import visualize"
   ]
  },
  {
   "cell_type": "code",
   "execution_count": null,
   "id": "2fb51a9c",
   "metadata": {},
   "outputs": [],
   "source": [
    "cfg_path = \"configs/tutorial_svc.yaml\" # Path to `.yaml` config file\n",
    "\n",
    "cfg = get_cfg_defaults()\n",
    "cfg.merge_from_file(cfg_path)\n",
    "cfg.freeze()\n",
    "print(cfg)"
   ]
  },
  {
   "cell_type": "code",
   "execution_count": null,
   "id": "00fec655",
   "metadata": {},
   "outputs": [],
   "source": [
    "abide = datasets.fetch_abide_pcp(data_dir=root_folder, pipeline=pipeline, band_pass_filtering=True, \n",
    "                                 global_signal_regression=False, derivatives=files, quality_checked=False)"
   ]
  }
 ],
 "metadata": {
  "kernelspec": {
   "display_name": "Python 3 (ipykernel)",
   "language": "python",
   "name": "python3"
  },
  "language_info": {
   "codemirror_mode": {
    "name": "ipython",
    "version": 3
   },
   "file_extension": ".py",
   "mimetype": "text/x-python",
   "name": "python",
   "nbconvert_exporter": "python",
   "pygments_lexer": "ipython3",
   "version": "3.8.8"
  }
 },
 "nbformat": 4,
 "nbformat_minor": 5
}
